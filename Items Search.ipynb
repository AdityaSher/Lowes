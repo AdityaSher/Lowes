{
 "cells": [
  {
   "cell_type": "code",
   "execution_count": 14,
   "metadata": {},
   "outputs": [],
   "source": [
    "import pandas as pd\n",
    "import matplotlib.pyplot as plt\n",
    "import networkx as nx\n",
    "import numpy as np"
   ]
  },
  {
   "cell_type": "code",
   "execution_count": 21,
   "metadata": {},
   "outputs": [],
   "source": [
    "item_db = pd.read_csv(\"all_items.csv\")"
   ]
  },
  {
   "cell_type": "code",
   "execution_count": 22,
   "metadata": {},
   "outputs": [
    {
     "data": {
      "text/html": [
       "<div>\n",
       "<style scoped>\n",
       "    .dataframe tbody tr th:only-of-type {\n",
       "        vertical-align: middle;\n",
       "    }\n",
       "\n",
       "    .dataframe tbody tr th {\n",
       "        vertical-align: top;\n",
       "    }\n",
       "\n",
       "    .dataframe thead th {\n",
       "        text-align: right;\n",
       "    }\n",
       "</style>\n",
       "<table border=\"1\" class=\"dataframe\">\n",
       "  <thead>\n",
       "    <tr style=\"text-align: right;\">\n",
       "      <th></th>\n",
       "      <th>0</th>\n",
       "      <th>1</th>\n",
       "      <th>2</th>\n",
       "      <th>3</th>\n",
       "      <th>4</th>\n",
       "      <th>5</th>\n",
       "      <th>6</th>\n",
       "      <th>7</th>\n",
       "      <th>8</th>\n",
       "      <th>9</th>\n",
       "      <th>10</th>\n",
       "    </tr>\n",
       "  </thead>\n",
       "  <tbody>\n",
       "    <tr>\n",
       "      <td>0</td>\n",
       "      <td>A</td>\n",
       "      <td>B</td>\n",
       "      <td>C</td>\n",
       "      <td>D</td>\n",
       "      <td>E</td>\n",
       "      <td>F</td>\n",
       "      <td>G</td>\n",
       "      <td>H</td>\n",
       "      <td>I</td>\n",
       "      <td>J</td>\n",
       "      <td>K</td>\n",
       "    </tr>\n",
       "    <tr>\n",
       "      <td>1</td>\n",
       "      <td>L</td>\n",
       "      <td>M</td>\n",
       "      <td>N</td>\n",
       "      <td>O</td>\n",
       "      <td>P</td>\n",
       "      <td>Q</td>\n",
       "      <td>R</td>\n",
       "      <td>S</td>\n",
       "      <td>T</td>\n",
       "      <td>U</td>\n",
       "      <td>V</td>\n",
       "    </tr>\n",
       "    <tr>\n",
       "      <td>2</td>\n",
       "      <td>W</td>\n",
       "      <td>X</td>\n",
       "      <td>Y</td>\n",
       "      <td>Z</td>\n",
       "      <td>AA</td>\n",
       "      <td>AB</td>\n",
       "      <td>AC</td>\n",
       "      <td>AD</td>\n",
       "      <td>AE</td>\n",
       "      <td>AF</td>\n",
       "      <td>AG</td>\n",
       "    </tr>\n",
       "    <tr>\n",
       "      <td>3</td>\n",
       "      <td>AH</td>\n",
       "      <td>NaN</td>\n",
       "      <td>AI</td>\n",
       "      <td>NaN</td>\n",
       "      <td>NaN</td>\n",
       "      <td>AJ</td>\n",
       "      <td>NaN</td>\n",
       "      <td>NaN</td>\n",
       "      <td>AK</td>\n",
       "      <td>NaN</td>\n",
       "      <td>AL</td>\n",
       "    </tr>\n",
       "  </tbody>\n",
       "</table>\n",
       "</div>"
      ],
      "text/plain": [
       "    0    1   2    3    4   5    6    7   8    9  10\n",
       "0   A    B   C    D    E   F    G    H   I    J   K\n",
       "1   L    M   N    O    P   Q    R    S   T    U   V\n",
       "2   W    X   Y    Z   AA  AB   AC   AD  AE   AF  AG\n",
       "3  AH  NaN  AI  NaN  NaN  AJ  NaN  NaN  AK  NaN  AL"
      ]
     },
     "execution_count": 22,
     "metadata": {},
     "output_type": "execute_result"
    }
   ],
   "source": [
    "item_db"
   ]
  },
  {
   "cell_type": "code",
   "execution_count": 58,
   "metadata": {},
   "outputs": [],
   "source": [
    "item_dict={}\n",
    "for shelf in item_db:\n",
    "    for item in item_db[shelf]:\n",
    "        if shelf != np.nan:\n",
    "            item_dict[item] = int(shelf)"
   ]
  },
  {
   "cell_type": "code",
   "execution_count": 59,
   "metadata": {},
   "outputs": [
    {
     "data": {
      "text/plain": [
       "{'A': 0,\n",
       " 'L': 0,\n",
       " 'W': 0,\n",
       " 'AH': 0,\n",
       " 'B': 1,\n",
       " 'M': 1,\n",
       " 'X': 1,\n",
       " nan: 9,\n",
       " 'C': 2,\n",
       " 'N': 2,\n",
       " 'Y': 2,\n",
       " 'AI': 2,\n",
       " 'D': 3,\n",
       " 'O': 3,\n",
       " 'Z': 3,\n",
       " 'E': 4,\n",
       " 'P': 4,\n",
       " 'AA': 4,\n",
       " 'F': 5,\n",
       " 'Q': 5,\n",
       " 'AB': 5,\n",
       " 'AJ': 5,\n",
       " 'G': 6,\n",
       " 'R': 6,\n",
       " 'AC': 6,\n",
       " 'H': 7,\n",
       " 'S': 7,\n",
       " 'AD': 7,\n",
       " 'I': 8,\n",
       " 'T': 8,\n",
       " 'AE': 8,\n",
       " 'AK': 8,\n",
       " 'J': 9,\n",
       " 'U': 9,\n",
       " 'AF': 9,\n",
       " 'K': 10,\n",
       " 'V': 10,\n",
       " 'AG': 10,\n",
       " 'AL': 10}"
      ]
     },
     "execution_count": 59,
     "metadata": {},
     "output_type": "execute_result"
    }
   ],
   "source": [
    "item_dict"
   ]
  },
  {
   "cell_type": "code",
   "execution_count": 62,
   "metadata": {},
   "outputs": [],
   "source": [
    "store = nx.Graph()"
   ]
  },
  {
   "cell_type": "code",
   "execution_count": 63,
   "metadata": {},
   "outputs": [],
   "source": [
    "store.add_node(0,pos=(1,1))\n",
    "store.add_node(1,pos=(1,0.5))\n",
    "store.add_node(2,pos=(1,0))\n",
    "store.add_node(3,pos=(2,0.5))\n",
    "store.add_node(4,pos=(2,0))\n",
    "store.add_node(5,pos=(3,1))\n",
    "store.add_node(6,pos=(3.5,0.5))\n",
    "store.add_node(7,pos=(4,0))\n",
    "store.add_node(8,pos=(4,2))\n",
    "store.add_node(9,pos=(5,2))\n",
    "store.add_node(10,pos=(5,0))"
   ]
  },
  {
   "cell_type": "code",
   "execution_count": 64,
   "metadata": {},
   "outputs": [],
   "source": [
    "store.add_edge(0,1,weight=1)\n",
    "store.add_edge(1,2,weight=1)\n",
    "store.add_edge(1,3,weight=1)\n",
    "store.add_edge(3,4,weight=1)\n",
    "store.add_edge(3,7,weight=2)\n",
    "store.add_edge(3,6,weight=1)\n",
    "store.add_edge(3,5,weight=2)\n",
    "store.add_edge(5,6,weight=1)\n",
    "store.add_edge(5,8,weight=2)\n",
    "store.add_edge(6,8,weight=3)\n",
    "store.add_edge(7,10,weight=1)\n",
    "store.add_edge(8,9,weight=1)\n",
    "store.add_edge(8,7,weight=4)\n"
   ]
  },
  {
   "cell_type": "code",
   "execution_count": 92,
   "metadata": {},
   "outputs": [
    {
     "data": {
      "image/png": "[encoded data removed]",
      "text/plain": [
       "<Figure size 432x288 with 1 Axes>"
      ]
     },
     "metadata": {},
     "output_type": "display_data"
    }
   ],
   "source": [
    "pos=nx.get_node_attributes(store,'pos')\n",
    "nx.draw(store,pos,with_labels=True)\n",
    "labels = nx.get_edge_attributes(store,'weight')\n",
    "nx.draw_networkx_edge_labels(store,pos,edge_labels=labels)\n",
    "\n",
    "plt.axis('off')\n",
    "plt.title(\"Store layout\")\n",
    "plt.show()"
   ]
  },
  {
   "cell_type": "code",
   "execution_count": 174,
   "metadata": {},
   "outputs": [],
   "source": [
    "user_items = pd.read_csv(\"user_inp.csv\",header=None)"
   ]
  },
  {
   "cell_type": "code",
   "execution_count": 175,
   "metadata": {},
   "outputs": [
    {
     "data": {
      "text/html": [
       "<div>\n",
       "<style scoped>\n",
       "    .dataframe tbody tr th:only-of-type {\n",
       "        vertical-align: middle;\n",
       "    }\n",
       "\n",
       "    .dataframe tbody tr th {\n",
       "        vertical-align: top;\n",
       "    }\n",
       "\n",
       "    .dataframe thead th {\n",
       "        text-align: right;\n",
       "    }\n",
       "</style>\n",
       "<table border=\"1\" class=\"dataframe\">\n",
       "  <thead>\n",
       "    <tr style=\"text-align: right;\">\n",
       "      <th></th>\n",
       "      <th>0</th>\n",
       "      <th>1</th>\n",
       "      <th>2</th>\n",
       "      <th>3</th>\n",
       "    </tr>\n",
       "  </thead>\n",
       "  <tbody>\n",
       "    <tr>\n",
       "      <td>0</td>\n",
       "      <td>A</td>\n",
       "      <td>B</td>\n",
       "      <td>AA</td>\n",
       "      <td>AJ</td>\n",
       "    </tr>\n",
       "  </tbody>\n",
       "</table>\n",
       "</div>"
      ],
      "text/plain": [
       "   0  1   2   3\n",
       "0  A  B  AA  AJ"
      ]
     },
     "execution_count": 175,
     "metadata": {},
     "output_type": "execute_result"
    }
   ],
   "source": [
    "user_items"
   ]
  },
  {
   "cell_type": "code",
   "execution_count": 176,
   "metadata": {},
   "outputs": [],
   "source": [
    "item_arr = user_items.iloc[0].values"
   ]
  },
  {
   "cell_type": "code",
   "execution_count": 177,
   "metadata": {},
   "outputs": [],
   "source": [
    "shelfs = []\n",
    "for item in item_arr:\n",
    "    shelfs.append(int(item_dict[item]))"
   ]
  },
  {
   "cell_type": "code",
   "execution_count": 178,
   "metadata": {},
   "outputs": [],
   "source": [
    "shelfs = np.unique(shelfs)"
   ]
  },
  {
   "cell_type": "code",
   "execution_count": 180,
   "metadata": {},
   "outputs": [],
   "source": [
    "shelfs = np.delete(shelfs,np.argwhere(shelfs==0))"
   ]
  },
  {
   "cell_type": "code",
   "execution_count": 182,
   "metadata": {},
   "outputs": [],
   "source": [
    "start = 0\n",
    "shlf = []\n",
    "l = 100\n",
    "for i,s in enumerate(shelfs):\n",
    "    l1 = nx.shortest_path_length(store,start,s,weight=\"weight\")\n",
    "    if l1 < l:\n",
    "        l = l1\n",
    "        shlf = []\n",
    "        shlf.append((i,s))\n",
    "    elif l1 == l:\n",
    "        shlf.append((i,s))\n",
    "comb = [0]\n",
    "while len(shelfs)!=0:\n",
    "    temp_shlfs = []\n",
    "    temp_ls = []\n",
    "    ss = []\n",
    "    for i,s in shlf:\n",
    "        temp_l = 100\n",
    "        temp_shlf = []\n",
    "        shelfs = np.delete(shelfs,i)\n",
    "        for i1,s1 in enumerate(shelfs):\n",
    "            l1 = nx.shortest_path_length(store,s,s1,weight=\"weight\")\n",
    "            if l1<temp_l:\n",
    "                temp_shlf = []\n",
    "                temp_l = l1\n",
    "                temp_shlf.append((i1,s1))\n",
    "            elif l1 == temp_l:\n",
    "                temp_shlf.append((i1,s1))\n",
    "        temp_ls.append(temp_l)\n",
    "        temp_shlfs.append(temp_shlf)\n",
    "        ss.append(s)\n",
    "    i = np.argmax(temp_ls)\n",
    "    shlf = temp_shlfs[i]\n",
    "    comb.append(ss[i])\n",
    "                "
   ]
  },
  {
   "cell_type": "code",
   "execution_count": 183,
   "metadata": {},
   "outputs": [],
   "source": [
    "path = []\n",
    "for i in range(len(comb)-1):\n",
    "    p = nx.shortest_path(store,comb[i],comb[i+1],weight=\"weight\")\n",
    "    path += p[1:]\n",
    "path = [0] + path\n",
    "return_path =  nx.shortest_path(store,comb[-1],0,weight=\"weight\")\n"
   ]
  },
  {
   "cell_type": "code",
   "execution_count": 184,
   "metadata": {},
   "outputs": [
    {
     "name": "stdout",
     "output_type": "stream",
     "text": [
      "Path: [0, 1, 3, 4, 3, 5]\n",
      "Return path: [5, 3, 1, 0]\n"
     ]
    }
   ],
   "source": [
    "print(\"Path: {}\\nReturn path: {}\".format(path,return_path))"
   ]
  },
  {
   "cell_type": "code",
   "execution_count": 185,
   "metadata": {},
   "outputs": [],
   "source": [
    "path_edges = set(zip(path,path[1:]))\n",
    "r_path_edges = set(zip(return_path,return_path[1:]))"
   ]
  },
  {
   "cell_type": "code",
   "execution_count": 188,
   "metadata": {},
   "outputs": [
    {
     "data": {
      "image/png": "[encoded data removed]",
      "text/plain": [
       "<Figure size 432x288 with 1 Axes>"
      ]
     },
     "metadata": {},
     "output_type": "display_data"
    }
   ],
   "source": [
    "pos=nx.get_node_attributes(store,'pos')\n",
    "nx.draw(store,pos,with_labels=True)\n",
    "labels = nx.get_edge_attributes(store,'weight')\n",
    "nx.draw_networkx_edge_labels(store,pos,edge_labels=labels)\n",
    "nx.draw_networkx_edges(store,pos,edgelist=path_edges,edge_color='r',width=10)\n",
    "nx.draw_networkx_edges(store,pos,edgelist=r_path_edges,edge_color='y',width=3)\n",
    "\n",
    "plt.axis('off')\n",
    "plt.legend(['Shelves','Pathways','Shortest path to items','Return path'])\n",
    "plt.title(\"Store layout\")\n",
    "plt.show()"
   ]
  },
  {
   "cell_type": "code",
   "execution_count": null,
   "metadata": {},
   "outputs": [],
   "source": []
  }
 ],
 "metadata": {
  "kernelspec": {
   "display_name": "Python 3",
   "language": "python",
   "name": "python3"
  },
  "language_info": {
   "codemirror_mode": {
    "name": "ipython",
    "version": 3
   },
   "file_extension": ".py",
   "mimetype": "text/x-python",
   "name": "python",
   "nbconvert_exporter": "python",
   "pygments_lexer": "ipython3",
   "version": "3.7.4"
  }
 },
 "nbformat": 4,
 "nbformat_minor": 2
}
